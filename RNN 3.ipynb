{
 "cells": [
  {
   "cell_type": "code",
   "execution_count": 435,
   "metadata": {},
   "outputs": [],
   "source": [
    "import pandas as pd\n",
    "import matplotlib.pyplot as plt\n",
    "import numpy as np\n",
    "# Scaling Package\n",
    "from sklearn.preprocessing import MinMaxScaler"
   ]
  },
  {
   "cell_type": "code",
   "execution_count": 436,
   "metadata": {},
   "outputs": [],
   "source": [
    "train = pd.read_csv('/Users/lamprosganias/Desktop/Cybersecurity and Data Science/Β Εξάμηνο/Time-Series Analytics and Forecasting (CDS214)/Datasets/Daily-train.csv')\n",
    "test = pd.read_csv('/Users/lamprosganias/Desktop/Cybersecurity and Data Science/Β Εξάμηνο/Time-Series Analytics and Forecasting (CDS214)/Datasets/Daily-test.csv')\n"
   ]
  },
  {
   "cell_type": "code",
   "execution_count": 437,
   "metadata": {},
   "outputs": [],
   "source": [
    "train = train.iloc[0:3]\n",
    "test = test.iloc[0:3]"
   ]
  },
  {
   "cell_type": "code",
   "execution_count": 438,
   "metadata": {},
   "outputs": [],
   "source": [
    "train = train.transpose()\n",
    "test = test.transpose()"
   ]
  },
  {
   "cell_type": "code",
   "execution_count": 439,
   "metadata": {},
   "outputs": [],
   "source": [
    "train = train.dropna()  \n",
    "test = test.dropna()  \n"
   ]
  },
  {
   "cell_type": "code",
   "execution_count": 440,
   "metadata": {},
   "outputs": [],
   "source": [
    "train.reset_index(inplace=True)\n",
    "test.reset_index(inplace=True)"
   ]
  },
  {
   "cell_type": "code",
   "execution_count": 441,
   "metadata": {},
   "outputs": [
    {
     "data": {
      "text/html": [
       "<div>\n",
       "<style scoped>\n",
       "    .dataframe tbody tr th:only-of-type {\n",
       "        vertical-align: middle;\n",
       "    }\n",
       "\n",
       "    .dataframe tbody tr th {\n",
       "        vertical-align: top;\n",
       "    }\n",
       "\n",
       "    .dataframe thead th {\n",
       "        text-align: right;\n",
       "    }\n",
       "</style>\n",
       "<table border=\"1\" class=\"dataframe\">\n",
       "  <thead>\n",
       "    <tr style=\"text-align: right;\">\n",
       "      <th></th>\n",
       "      <th>index</th>\n",
       "      <th>0</th>\n",
       "      <th>1</th>\n",
       "      <th>2</th>\n",
       "    </tr>\n",
       "  </thead>\n",
       "  <tbody>\n",
       "    <tr>\n",
       "      <th>0</th>\n",
       "      <td>V1</td>\n",
       "      <td>D1</td>\n",
       "      <td>D2</td>\n",
       "      <td>D3</td>\n",
       "    </tr>\n",
       "    <tr>\n",
       "      <th>1</th>\n",
       "      <td>V2</td>\n",
       "      <td>1017.1</td>\n",
       "      <td>2793.7</td>\n",
       "      <td>1091.3</td>\n",
       "    </tr>\n",
       "    <tr>\n",
       "      <th>2</th>\n",
       "      <td>V3</td>\n",
       "      <td>1019.3</td>\n",
       "      <td>2793.8</td>\n",
       "      <td>1088.5</td>\n",
       "    </tr>\n",
       "    <tr>\n",
       "      <th>3</th>\n",
       "      <td>V4</td>\n",
       "      <td>1017.0</td>\n",
       "      <td>2803.7</td>\n",
       "      <td>1085.7</td>\n",
       "    </tr>\n",
       "    <tr>\n",
       "      <th>4</th>\n",
       "      <td>V5</td>\n",
       "      <td>1019.2</td>\n",
       "      <td>2805.8</td>\n",
       "      <td>1082.9</td>\n",
       "    </tr>\n",
       "    <tr>\n",
       "      <th>...</th>\n",
       "      <td>...</td>\n",
       "      <td>...</td>\n",
       "      <td>...</td>\n",
       "      <td>...</td>\n",
       "    </tr>\n",
       "    <tr>\n",
       "      <th>126</th>\n",
       "      <td>V127</td>\n",
       "      <td>1023.4</td>\n",
       "      <td>2600.9</td>\n",
       "      <td>1134.7</td>\n",
       "    </tr>\n",
       "    <tr>\n",
       "      <th>127</th>\n",
       "      <td>V128</td>\n",
       "      <td>1019.6</td>\n",
       "      <td>2612.2</td>\n",
       "      <td>1131.9</td>\n",
       "    </tr>\n",
       "    <tr>\n",
       "      <th>128</th>\n",
       "      <td>V129</td>\n",
       "      <td>1016.7</td>\n",
       "      <td>2595.8</td>\n",
       "      <td>1129.1</td>\n",
       "    </tr>\n",
       "    <tr>\n",
       "      <th>129</th>\n",
       "      <td>V130</td>\n",
       "      <td>1012.0</td>\n",
       "      <td>2589.5</td>\n",
       "      <td>1126.3</td>\n",
       "    </tr>\n",
       "    <tr>\n",
       "      <th>130</th>\n",
       "      <td>V131</td>\n",
       "      <td>1012.7</td>\n",
       "      <td>2589.5</td>\n",
       "      <td>1123.5</td>\n",
       "    </tr>\n",
       "  </tbody>\n",
       "</table>\n",
       "<p>131 rows × 4 columns</p>\n",
       "</div>"
      ],
      "text/plain": [
       "    index       0       1       2\n",
       "0      V1      D1      D2      D3\n",
       "1      V2  1017.1  2793.7  1091.3\n",
       "2      V3  1019.3  2793.8  1088.5\n",
       "3      V4  1017.0  2803.7  1085.7\n",
       "4      V5  1019.2  2805.8  1082.9\n",
       "..    ...     ...     ...     ...\n",
       "126  V127  1023.4  2600.9  1134.7\n",
       "127  V128  1019.6  2612.2  1131.9\n",
       "128  V129  1016.7  2595.8  1129.1\n",
       "129  V130  1012.0  2589.5  1126.3\n",
       "130  V131  1012.7  2589.5  1123.5\n",
       "\n",
       "[131 rows x 4 columns]"
      ]
     },
     "execution_count": 441,
     "metadata": {},
     "output_type": "execute_result"
    }
   ],
   "source": [
    "train"
   ]
  },
  {
   "cell_type": "code",
   "execution_count": 442,
   "metadata": {},
   "outputs": [
    {
     "data": {
      "text/plain": [
       "index    V1\n",
       "0        D1\n",
       "1        D2\n",
       "2        D3\n",
       "Name: 0, dtype: object"
      ]
     },
     "execution_count": 442,
     "metadata": {},
     "output_type": "execute_result"
    }
   ],
   "source": [
    "header_row_train = train.iloc[0]\n",
    "header_row_train"
   ]
  },
  {
   "cell_type": "code",
   "execution_count": 424,
   "metadata": {},
   "outputs": [
    {
     "data": {
      "text/html": [
       "<div>\n",
       "<style scoped>\n",
       "    .dataframe tbody tr th:only-of-type {\n",
       "        vertical-align: middle;\n",
       "    }\n",
       "\n",
       "    .dataframe tbody tr th {\n",
       "        vertical-align: top;\n",
       "    }\n",
       "\n",
       "    .dataframe thead th {\n",
       "        text-align: right;\n",
       "    }\n",
       "</style>\n",
       "<table border=\"1\" class=\"dataframe\">\n",
       "  <thead>\n",
       "    <tr style=\"text-align: right;\">\n",
       "      <th></th>\n",
       "      <th>D1</th>\n",
       "      <th>D2</th>\n",
       "    </tr>\n",
       "  </thead>\n",
       "  <tbody>\n",
       "    <tr>\n",
       "      <th>0</th>\n",
       "      <td>1017.1</td>\n",
       "      <td>2793.7</td>\n",
       "    </tr>\n",
       "    <tr>\n",
       "      <th>1</th>\n",
       "      <td>1019.3</td>\n",
       "      <td>2793.8</td>\n",
       "    </tr>\n",
       "    <tr>\n",
       "      <th>2</th>\n",
       "      <td>1017.0</td>\n",
       "      <td>2803.7</td>\n",
       "    </tr>\n",
       "    <tr>\n",
       "      <th>3</th>\n",
       "      <td>1019.2</td>\n",
       "      <td>2805.8</td>\n",
       "    </tr>\n",
       "    <tr>\n",
       "      <th>4</th>\n",
       "      <td>1018.7</td>\n",
       "      <td>2802.3</td>\n",
       "    </tr>\n",
       "    <tr>\n",
       "      <th>...</th>\n",
       "      <td>...</td>\n",
       "      <td>...</td>\n",
       "    </tr>\n",
       "    <tr>\n",
       "      <th>1015</th>\n",
       "      <td>2066.4</td>\n",
       "      <td>2989.0</td>\n",
       "    </tr>\n",
       "    <tr>\n",
       "      <th>1016</th>\n",
       "      <td>2067.4</td>\n",
       "      <td>2991.4</td>\n",
       "    </tr>\n",
       "    <tr>\n",
       "      <th>1017</th>\n",
       "      <td>2071.4</td>\n",
       "      <td>3024.9</td>\n",
       "    </tr>\n",
       "    <tr>\n",
       "      <th>1018</th>\n",
       "      <td>2083.8</td>\n",
       "      <td>3070.8</td>\n",
       "    </tr>\n",
       "    <tr>\n",
       "      <th>1019</th>\n",
       "      <td>2080.6</td>\n",
       "      <td>3076.9</td>\n",
       "    </tr>\n",
       "  </tbody>\n",
       "</table>\n",
       "<p>1020 rows × 2 columns</p>\n",
       "</div>"
      ],
      "text/plain": [
       "0         D1      D2\n",
       "0     1017.1  2793.7\n",
       "1     1019.3  2793.8\n",
       "2     1017.0  2803.7\n",
       "3     1019.2  2805.8\n",
       "4     1018.7  2802.3\n",
       "...      ...     ...\n",
       "1015  2066.4  2989.0\n",
       "1016  2067.4  2991.4\n",
       "1017  2071.4  3024.9\n",
       "1018  2083.8  3070.8\n",
       "1019  2080.6  3076.9\n",
       "\n",
       "[1020 rows x 2 columns]"
      ]
     },
     "execution_count": 424,
     "metadata": {},
     "output_type": "execute_result"
    }
   ],
   "source": [
    "header_row_train = train.iloc[0]\n",
    "header_row_test = test.iloc[0]\n",
    "train = pd.DataFrame(train.values[1:], columns=header_row_train)\n",
    "test = pd.DataFrame(test.values[1:], columns=header_row_test)\n",
    "data = pd.concat([train, test], axis=0)\n",
    "data = data.reset_index(drop=True)\n",
    "data = data.drop(columns=['V1'])\n",
    "data\n"
   ]
  },
  {
   "cell_type": "code",
   "execution_count": 425,
   "metadata": {},
   "outputs": [
    {
     "data": {
      "image/png": "[encoded data removed]",
      "text/plain": [
       "<Figure size 640x480 with 1 Axes>"
      ]
     },
     "metadata": {},
     "output_type": "display_data"
    }
   ],
   "source": [
    "plt.plot(data['D1'][0:1005], color='blue', label='Train Data')\n",
    "plt.plot(data['D1'][1005:], color='orange', label='Test Data')\n",
    "plt.legend()\n",
    "plt.show()"
   ]
  },
  {
   "cell_type": "code",
   "execution_count": 426,
   "metadata": {},
   "outputs": [
    {
     "data": {
      "text/plain": [
       "array([[1017.1, 2793.7],\n",
       "       [1019.3, 2793.8],\n",
       "       [1017.0, 2803.7],\n",
       "       ...,\n",
       "       [2071.4, 3024.9],\n",
       "       [2083.8, 3070.8],\n",
       "       [2080.6, 3076.9]], dtype=object)"
      ]
     },
     "execution_count": 426,
     "metadata": {},
     "output_type": "execute_result"
    }
   ],
   "source": [
    "x = data.values\n",
    "x"
   ]
  },
  {
   "cell_type": "code",
   "execution_count": 427,
   "metadata": {},
   "outputs": [],
   "source": [
    "column_names = data.columns\n",
    "x = data.values\n",
    "# # Let's scale the data -- this helps avoid the exploding gradient issue\n",
    "scale = MinMaxScaler(feature_range=(0,1)) # This is by default.\n",
    "scale.fit(x[:988])\n",
    "x_scaled = scale.transform(x)\n",
    "df = pd.DataFrame(x_scaled)\n"
   ]
  },
  {
   "cell_type": "code",
   "execution_count": 415,
   "metadata": {},
   "outputs": [
    {
     "data": {
      "text/html": [
       "<div>\n",
       "<style scoped>\n",
       "    .dataframe tbody tr th:only-of-type {\n",
       "        vertical-align: middle;\n",
       "    }\n",
       "\n",
       "    .dataframe tbody tr th {\n",
       "        vertical-align: top;\n",
       "    }\n",
       "\n",
       "    .dataframe thead th {\n",
       "        text-align: right;\n",
       "    }\n",
       "</style>\n",
       "<table border=\"1\" class=\"dataframe\">\n",
       "  <thead>\n",
       "    <tr style=\"text-align: right;\">\n",
       "      <th></th>\n",
       "      <th>D1</th>\n",
       "      <th>D2</th>\n",
       "    </tr>\n",
       "  </thead>\n",
       "  <tbody>\n",
       "    <tr>\n",
       "      <th>0</th>\n",
       "      <td>0.025294</td>\n",
       "      <td>0.228291</td>\n",
       "    </tr>\n",
       "    <tr>\n",
       "      <th>1</th>\n",
       "      <td>0.027468</td>\n",
       "      <td>0.228385</td>\n",
       "    </tr>\n",
       "    <tr>\n",
       "      <th>2</th>\n",
       "      <td>0.025195</td>\n",
       "      <td>0.237740</td>\n",
       "    </tr>\n",
       "    <tr>\n",
       "      <th>3</th>\n",
       "      <td>0.027369</td>\n",
       "      <td>0.239724</td>\n",
       "    </tr>\n",
       "    <tr>\n",
       "      <th>4</th>\n",
       "      <td>0.026875</td>\n",
       "      <td>0.236417</td>\n",
       "    </tr>\n",
       "    <tr>\n",
       "      <th>...</th>\n",
       "      <td>...</td>\n",
       "      <td>...</td>\n",
       "    </tr>\n",
       "    <tr>\n",
       "      <th>1015</th>\n",
       "      <td>1.062049</td>\n",
       "      <td>0.412832</td>\n",
       "    </tr>\n",
       "    <tr>\n",
       "      <th>1016</th>\n",
       "      <td>1.063037</td>\n",
       "      <td>0.415100</td>\n",
       "    </tr>\n",
       "    <tr>\n",
       "      <th>1017</th>\n",
       "      <td>1.066989</td>\n",
       "      <td>0.446754</td>\n",
       "    </tr>\n",
       "    <tr>\n",
       "      <th>1018</th>\n",
       "      <td>1.079241</td>\n",
       "      <td>0.490126</td>\n",
       "    </tr>\n",
       "    <tr>\n",
       "      <th>1019</th>\n",
       "      <td>1.076079</td>\n",
       "      <td>0.495890</td>\n",
       "    </tr>\n",
       "  </tbody>\n",
       "</table>\n",
       "<p>1020 rows × 2 columns</p>\n",
       "</div>"
      ],
      "text/plain": [
       "0           D1        D2\n",
       "0     0.025294  0.228291\n",
       "1     0.027468  0.228385\n",
       "2     0.025195  0.237740\n",
       "3     0.027369  0.239724\n",
       "4     0.026875  0.236417\n",
       "...        ...       ...\n",
       "1015  1.062049  0.412832\n",
       "1016  1.063037  0.415100\n",
       "1017  1.066989  0.446754\n",
       "1018  1.079241  0.490126\n",
       "1019  1.076079  0.495890\n",
       "\n",
       "[1020 rows x 2 columns]"
      ]
     },
     "execution_count": 415,
     "metadata": {},
     "output_type": "execute_result"
    }
   ],
   "source": [
    "npa = df\n",
    "npa.columns = column_names\n",
    "npa"
   ]
  },
  {
   "cell_type": "code",
   "execution_count": 431,
   "metadata": {},
   "outputs": [
    {
     "data": {
      "text/plain": [
       "1020"
      ]
     },
     "execution_count": 431,
     "metadata": {},
     "output_type": "execute_result"
    }
   ],
   "source": [
    "npa.shape[0]"
   ]
  },
  {
   "cell_type": "code",
   "execution_count": 434,
   "metadata": {},
   "outputs": [
    {
     "ename": "InvalidIndexError",
     "evalue": "(slice(0, 15, None), slice(0, 2, None))",
     "output_type": "error",
     "traceback": [
      "\u001b[0;31m---------------------------------------------------------------------------\u001b[0m",
      "\u001b[0;31mTypeError\u001b[0m                                 Traceback (most recent call last)",
      "File \u001b[0;32m~/opt/anaconda3/envs/ML/lib/python3.10/site-packages/pandas/core/indexes/base.py:3802\u001b[0m, in \u001b[0;36mIndex.get_loc\u001b[0;34m(self, key, method, tolerance)\u001b[0m\n\u001b[1;32m   3801\u001b[0m \u001b[39mtry\u001b[39;00m:\n\u001b[0;32m-> 3802\u001b[0m     \u001b[39mreturn\u001b[39;00m \u001b[39mself\u001b[39;49m\u001b[39m.\u001b[39;49m_engine\u001b[39m.\u001b[39;49mget_loc(casted_key)\n\u001b[1;32m   3803\u001b[0m \u001b[39mexcept\u001b[39;00m \u001b[39mKeyError\u001b[39;00m \u001b[39mas\u001b[39;00m err:\n",
      "File \u001b[0;32m~/opt/anaconda3/envs/ML/lib/python3.10/site-packages/pandas/_libs/index.pyx:138\u001b[0m, in \u001b[0;36mpandas._libs.index.IndexEngine.get_loc\u001b[0;34m()\u001b[0m\n",
      "File \u001b[0;32m~/opt/anaconda3/envs/ML/lib/python3.10/site-packages/pandas/_libs/index.pyx:144\u001b[0m, in \u001b[0;36mpandas._libs.index.IndexEngine.get_loc\u001b[0;34m()\u001b[0m\n",
      "\u001b[0;31mTypeError\u001b[0m: '(slice(0, 15, None), slice(0, 2, None))' is an invalid key",
      "\nDuring handling of the above exception, another exception occurred:\n",
      "\u001b[0;31mInvalidIndexError\u001b[0m                         Traceback (most recent call last)",
      "\u001b[1;32m/Users/lamprosganias/Desktop/RNN 3.ipynb Cell 15\u001b[0m in \u001b[0;36m<cell line: 7>\u001b[0;34m()\u001b[0m\n\u001b[1;32m      <a href='vscode-notebook-cell:/Users/lamprosganias/Desktop/RNN%203.ipynb#X46sZmlsZQ%3D%3D?line=4'>5</a>\u001b[0m Y \u001b[39m=\u001b[39m []  \u001b[39m# Y array\u001b[39;00m\n\u001b[1;32m      <a href='vscode-notebook-cell:/Users/lamprosganias/Desktop/RNN%203.ipynb#X46sZmlsZQ%3D%3D?line=6'>7</a>\u001b[0m \u001b[39mfor\u001b[39;00m i \u001b[39min\u001b[39;00m \u001b[39mrange\u001b[39m(npa\u001b[39m.\u001b[39mshape[\u001b[39m0\u001b[39m] \u001b[39m-\u001b[39m samples):\n\u001b[0;32m----> <a href='vscode-notebook-cell:/Users/lamprosganias/Desktop/RNN%203.ipynb#X46sZmlsZQ%3D%3D?line=7'>8</a>\u001b[0m     X\u001b[39m.\u001b[39mappend(npa[i:i\u001b[39m+\u001b[39;49msamples,\u001b[39m0\u001b[39;49m:\u001b[39m2\u001b[39;49m]\u001b[39m.\u001b[39mvalues)  \u001b[39m# Independent Samples\u001b[39;00m\n\u001b[1;32m      <a href='vscode-notebook-cell:/Users/lamprosganias/Desktop/RNN%203.ipynb#X46sZmlsZQ%3D%3D?line=8'>9</a>\u001b[0m     Y\u001b[39m.\u001b[39mappend(npa[i\u001b[39m+\u001b[39msamples][\u001b[39m0\u001b[39m])  \u001b[39m# Dependent Samples\u001b[39;00m\n\u001b[1;32m     <a href='vscode-notebook-cell:/Users/lamprosganias/Desktop/RNN%203.ipynb#X46sZmlsZQ%3D%3D?line=10'>11</a>\u001b[0m \u001b[39mprint\u001b[39m(\u001b[39m'\u001b[39m\u001b[39mTraining Data: Length is\u001b[39m\u001b[39m'\u001b[39m, \u001b[39mlen\u001b[39m(X[\u001b[39m0\u001b[39m]), \u001b[39m'\u001b[39m\u001b[39m:\u001b[39m\u001b[39m'\u001b[39m, X[\u001b[39m0\u001b[39m])\n",
      "File \u001b[0;32m~/opt/anaconda3/envs/ML/lib/python3.10/site-packages/pandas/core/frame.py:3807\u001b[0m, in \u001b[0;36mDataFrame.__getitem__\u001b[0;34m(self, key)\u001b[0m\n\u001b[1;32m   3805\u001b[0m \u001b[39mif\u001b[39;00m \u001b[39mself\u001b[39m\u001b[39m.\u001b[39mcolumns\u001b[39m.\u001b[39mnlevels \u001b[39m>\u001b[39m \u001b[39m1\u001b[39m:\n\u001b[1;32m   3806\u001b[0m     \u001b[39mreturn\u001b[39;00m \u001b[39mself\u001b[39m\u001b[39m.\u001b[39m_getitem_multilevel(key)\n\u001b[0;32m-> 3807\u001b[0m indexer \u001b[39m=\u001b[39m \u001b[39mself\u001b[39;49m\u001b[39m.\u001b[39;49mcolumns\u001b[39m.\u001b[39;49mget_loc(key)\n\u001b[1;32m   3808\u001b[0m \u001b[39mif\u001b[39;00m is_integer(indexer):\n\u001b[1;32m   3809\u001b[0m     indexer \u001b[39m=\u001b[39m [indexer]\n",
      "File \u001b[0;32m~/opt/anaconda3/envs/ML/lib/python3.10/site-packages/pandas/core/indexes/base.py:3809\u001b[0m, in \u001b[0;36mIndex.get_loc\u001b[0;34m(self, key, method, tolerance)\u001b[0m\n\u001b[1;32m   3804\u001b[0m         \u001b[39mraise\u001b[39;00m \u001b[39mKeyError\u001b[39;00m(key) \u001b[39mfrom\u001b[39;00m \u001b[39merr\u001b[39;00m\n\u001b[1;32m   3805\u001b[0m     \u001b[39mexcept\u001b[39;00m \u001b[39mTypeError\u001b[39;00m:\n\u001b[1;32m   3806\u001b[0m         \u001b[39m# If we have a listlike key, _check_indexing_error will raise\u001b[39;00m\n\u001b[1;32m   3807\u001b[0m         \u001b[39m#  InvalidIndexError. Otherwise we fall through and re-raise\u001b[39;00m\n\u001b[1;32m   3808\u001b[0m         \u001b[39m#  the TypeError.\u001b[39;00m\n\u001b[0;32m-> 3809\u001b[0m         \u001b[39mself\u001b[39;49m\u001b[39m.\u001b[39;49m_check_indexing_error(key)\n\u001b[1;32m   3810\u001b[0m         \u001b[39mraise\u001b[39;00m\n\u001b[1;32m   3812\u001b[0m \u001b[39m# GH#42269\u001b[39;00m\n",
      "File \u001b[0;32m~/opt/anaconda3/envs/ML/lib/python3.10/site-packages/pandas/core/indexes/base.py:5925\u001b[0m, in \u001b[0;36mIndex._check_indexing_error\u001b[0;34m(self, key)\u001b[0m\n\u001b[1;32m   5921\u001b[0m \u001b[39mdef\u001b[39;00m \u001b[39m_check_indexing_error\u001b[39m(\u001b[39mself\u001b[39m, key):\n\u001b[1;32m   5922\u001b[0m     \u001b[39mif\u001b[39;00m \u001b[39mnot\u001b[39;00m is_scalar(key):\n\u001b[1;32m   5923\u001b[0m         \u001b[39m# if key is not a scalar, directly raise an error (the code below\u001b[39;00m\n\u001b[1;32m   5924\u001b[0m         \u001b[39m# would convert to numpy arrays and raise later any way) - GH29926\u001b[39;00m\n\u001b[0;32m-> 5925\u001b[0m         \u001b[39mraise\u001b[39;00m InvalidIndexError(key)\n",
      "\u001b[0;31mInvalidIndexError\u001b[0m: (slice(0, 15, None), slice(0, 2, None))"
     ]
    }
   ],
   "source": [
    "# Need the data to be in the form [sample, time steps, features (dimension of each element)]\n",
    "samples = 15  # Number of samples (in past)\n",
    "steps = 1  # Number of steps (in future)\n",
    "X = []  # X array\n",
    "Y = []  # Y array\n",
    "\n",
    "for i in range(npa.shape[0] - samples):\n",
    "    X.append(npa[i:i+samples,0:2].values)  # Independent Samples\n",
    "    Y.append(npa[i+samples][0])  # Dependent Samples\n",
    "\n",
    "print('Training Data: Length is', len(X[0]), ':', X[0])\n",
    "print('Testing Data:',Y[0])"
   ]
  },
  {
   "cell_type": "code",
   "execution_count": 375,
   "metadata": {},
   "outputs": [
    {
     "name": "stdout",
     "output_type": "stream",
     "text": [
      "2040\n",
      "2040\n"
     ]
    }
   ],
   "source": [
    "# Flatten this matrix down.\n",
    "npa = returns.values[:].reshape(-1,1) # Python is smart to recognize whatever dimension you need by using this parameter\n",
    "print(len(npa))\n",
    "# # Let's scale the data -- this helps avoid the exploding gradient issue\n",
    "scale = MinMaxScaler(feature_range=(0,1)) # This is by default.\n",
    "npa = scale.fit_transform(npa)\n",
    "print(len(npa))"
   ]
  },
  {
   "cell_type": "code",
   "execution_count": 376,
   "metadata": {},
   "outputs": [
    {
     "data": {
      "text/plain": [
       "array([[       nan],\n",
       "       [       nan],\n",
       "       [0.24059929],\n",
       "       ...,\n",
       "       [0.36897767],\n",
       "       [0.22473561],\n",
       "       [0.2520564 ]])"
      ]
     },
     "execution_count": 376,
     "metadata": {},
     "output_type": "execute_result"
    }
   ],
   "source": [
    "npa"
   ]
  },
  {
   "cell_type": "code",
   "execution_count": 192,
   "metadata": {},
   "outputs": [],
   "source": [
    "npa[0] = 0"
   ]
  },
  {
   "cell_type": "code",
   "execution_count": 193,
   "metadata": {},
   "outputs": [
    {
     "data": {
      "text/plain": [
       "1005"
      ]
     },
     "execution_count": 193,
     "metadata": {},
     "output_type": "execute_result"
    }
   ],
   "source": [
    "train_npa = npa[0:len(train)-1]\n",
    "len(train_npa)"
   ]
  },
  {
   "cell_type": "code",
   "execution_count": 194,
   "metadata": {},
   "outputs": [
    {
     "data": {
      "text/plain": [
       "15"
      ]
     },
     "execution_count": 194,
     "metadata": {},
     "output_type": "execute_result"
    }
   ],
   "source": [
    "test_npa = npa[len(train)-1:len(data)+1]\n",
    "len(test_npa)"
   ]
  },
  {
   "cell_type": "code",
   "execution_count": 195,
   "metadata": {},
   "outputs": [
    {
     "data": {
      "text/plain": [
       "1020"
      ]
     },
     "execution_count": 195,
     "metadata": {},
     "output_type": "execute_result"
    }
   ],
   "source": [
    "npa.shape[0]"
   ]
  },
  {
   "cell_type": "code",
   "execution_count": 196,
   "metadata": {},
   "outputs": [
    {
     "name": "stdout",
     "output_type": "stream",
     "text": [
      "Training Data: Length is 15 : [[0.        ]\n",
      " [0.28661528]\n",
      " [0.25508059]\n",
      " [0.28661528]\n",
      " [0.26769446]\n",
      " [0.24947442]\n",
      " [0.29152067]\n",
      " [0.26979678]\n",
      " [0.27189909]\n",
      " [0.29292221]\n",
      " [0.28170988]\n",
      " [0.27330063]\n",
      " [0.25157673]\n",
      " [0.27750526]\n",
      " [0.24807288]]\n",
      "Testing Data: 0.3027330063069379\n"
     ]
    }
   ],
   "source": [
    "# Need the data to be in the form [sample, time steps, features (dimension of each element)]\n",
    "samples = 15  # Number of samples (in past)\n",
    "steps = 1  # Number of steps (in future)\n",
    "X = []  # X array\n",
    "Y = []  # Y array\n",
    "\n",
    "for i in range(npa.shape[0] - samples):\n",
    "    X.append(npa[i:i+samples])  # Independent Samples\n",
    "    Y.append(npa[i+samples][0])  # Dependent Samples\n",
    "\n",
    "print('Training Data: Length is', len(X[0]), ':', X[0])\n",
    "print('Testing Data:',Y[0])\n"
   ]
  },
  {
   "cell_type": "code",
   "execution_count": 197,
   "metadata": {},
   "outputs": [
    {
     "name": "stdout",
     "output_type": "stream",
     "text": [
      "Dimensions of X (1005, 15, 1) Dimensions of Y (1005,)\n"
     ]
    }
   ],
   "source": [
    "#Reshape the data so that the inputs will be acceptable to the model.\n",
    "X = np.array(X)\n",
    "Y = np.array(Y)\n",
    "print('Dimensions of X', X.shape, 'Dimensions of Y', Y.shape)"
   ]
  },
  {
   "cell_type": "code",
   "execution_count": 198,
   "metadata": {},
   "outputs": [
    {
     "name": "stdout",
     "output_type": "stream",
     "text": [
      "Threshold is [[0.25437982]\n",
      " [0.28241065]\n",
      " [0.28100911]\n",
      " [0.27259986]\n",
      " [0.35599159]\n",
      " [0.27189909]\n",
      " [0.30343378]\n",
      " [0.18079888]\n",
      " [0.23405746]\n",
      " [0.33917309]\n",
      " [0.27960757]\n",
      " [0.19831815]\n",
      " [0.35669236]\n",
      " [0.22985284]\n",
      " [0.3580939 ]]\n"
     ]
    }
   ],
   "source": [
    "threshold = npa[989:1004]\n",
    "print('Threshold is', threshold)"
   ]
  },
  {
   "cell_type": "code",
   "execution_count": 276,
   "metadata": {},
   "outputs": [
    {
     "name": "stdout",
     "output_type": "stream",
     "text": [
      "Model: \"sequential_22\"\n",
      "_________________________________________________________________\n",
      " Layer (type)                Output Shape              Param #   \n",
      "=================================================================\n",
      " lstm_40 (LSTM)              (None, 15, 32)            4352      \n",
      "                                                                 \n",
      " lstm_41 (LSTM)              (None, 32)                8320      \n",
      "                                                                 \n",
      " dropout_21 (Dropout)        (None, 32)                0         \n",
      "                                                                 \n",
      " dense_35 (Dense)            (None, 1)                 33        \n",
      "                                                                 \n",
      "=================================================================\n",
      "Total params: 12,705\n",
      "Trainable params: 12,705\n",
      "Non-trainable params: 0\n",
      "_________________________________________________________________\n"
     ]
    }
   ],
   "source": [
    "from tensorflow.keras.optimizers.experimental import SGD\n",
    "# Create the model\n",
    "model = Sequential()\n",
    "model.add(LSTM(32,use_bias=True, return_sequences=True, input_shape=(X.shape[1], X.shape[2])))\n",
    "model.add(LSTM(32))\n",
    "#model.add(Dense(32, activation='relu'))\n",
    "model.add(Dropout(0.1))\n",
    "#model.add(Dense(8, activation='relu'))\n",
    "model.add(Dense(1, activation='linear'))\n",
    "\n",
    "model.compile(loss='mse', optimizer=Adam(learning_rate=0.001))\n",
    "\n",
    "# Print out architecture.\n",
    "model.summary()\n"
   ]
  },
  {
   "cell_type": "code",
   "execution_count": 277,
   "metadata": {},
   "outputs": [
    {
     "name": "stdout",
     "output_type": "stream",
     "text": [
      "Epoch 1/100\n",
      "26/26 [==============================] - 3s 30ms/step - loss: 0.0258 - val_loss: 0.0032\n",
      "Epoch 2/100\n",
      "26/26 [==============================] - 0s 8ms/step - loss: 0.0037 - val_loss: 0.0033\n",
      "Epoch 3/100\n",
      "26/26 [==============================] - 0s 8ms/step - loss: 0.0030 - val_loss: 0.0032\n",
      "Epoch 4/100\n",
      "26/26 [==============================] - 0s 9ms/step - loss: 0.0029 - val_loss: 0.0032\n",
      "Epoch 5/100\n",
      "26/26 [==============================] - 0s 10ms/step - loss: 0.0029 - val_loss: 0.0032\n",
      "Epoch 6/100\n",
      "26/26 [==============================] - 0s 9ms/step - loss: 0.0030 - val_loss: 0.0032\n",
      "Epoch 7/100\n",
      "26/26 [==============================] - 0s 9ms/step - loss: 0.0029 - val_loss: 0.0032\n",
      "Epoch 8/100\n",
      "26/26 [==============================] - 0s 8ms/step - loss: 0.0029 - val_loss: 0.0032\n",
      "Epoch 9/100\n",
      "26/26 [==============================] - 0s 10ms/step - loss: 0.0028 - val_loss: 0.0032\n",
      "Epoch 10/100\n",
      "26/26 [==============================] - 0s 8ms/step - loss: 0.0029 - val_loss: 0.0032\n",
      "Epoch 11/100\n",
      "26/26 [==============================] - 0s 8ms/step - loss: 0.0028 - val_loss: 0.0033\n",
      "Epoch 12/100\n",
      "26/26 [==============================] - 0s 8ms/step - loss: 0.0028 - val_loss: 0.0032\n",
      "Epoch 13/100\n",
      "26/26 [==============================] - 0s 8ms/step - loss: 0.0029 - val_loss: 0.0032\n",
      "Epoch 14/100\n",
      "26/26 [==============================] - 0s 10ms/step - loss: 0.0028 - val_loss: 0.0032\n",
      "Epoch 15/100\n",
      "26/26 [==============================] - 0s 8ms/step - loss: 0.0029 - val_loss: 0.0032\n",
      "Epoch 16/100\n",
      "26/26 [==============================] - 0s 9ms/step - loss: 0.0028 - val_loss: 0.0032\n",
      "Epoch 17/100\n",
      "26/26 [==============================] - 0s 10ms/step - loss: 0.0028 - val_loss: 0.0032\n",
      "Epoch 18/100\n",
      "26/26 [==============================] - 0s 11ms/step - loss: 0.0028 - val_loss: 0.0032\n",
      "Epoch 19/100\n",
      "26/26 [==============================] - 0s 9ms/step - loss: 0.0027 - val_loss: 0.0032\n",
      "Epoch 20/100\n",
      "26/26 [==============================] - 0s 8ms/step - loss: 0.0027 - val_loss: 0.0032\n",
      "Epoch 21/100\n",
      "26/26 [==============================] - 0s 8ms/step - loss: 0.0028 - val_loss: 0.0032\n",
      "Epoch 22/100\n",
      "26/26 [==============================] - 0s 10ms/step - loss: 0.0028 - val_loss: 0.0032\n",
      "Epoch 23/100\n",
      "26/26 [==============================] - 0s 8ms/step - loss: 0.0028 - val_loss: 0.0032\n",
      "Epoch 24/100\n",
      "26/26 [==============================] - 0s 8ms/step - loss: 0.0027 - val_loss: 0.0032\n",
      "Epoch 25/100\n",
      "26/26 [==============================] - 0s 9ms/step - loss: 0.0028 - val_loss: 0.0032\n",
      "Epoch 26/100\n",
      "26/26 [==============================] - 0s 12ms/step - loss: 0.0027 - val_loss: 0.0032\n",
      "Epoch 27/100\n",
      "26/26 [==============================] - 0s 8ms/step - loss: 0.0027 - val_loss: 0.0032\n",
      "Epoch 28/100\n",
      "26/26 [==============================] - 0s 8ms/step - loss: 0.0029 - val_loss: 0.0032\n",
      "Epoch 29/100\n",
      "26/26 [==============================] - 0s 9ms/step - loss: 0.0027 - val_loss: 0.0032\n",
      "Epoch 30/100\n",
      "26/26 [==============================] - 0s 8ms/step - loss: 0.0028 - val_loss: 0.0032\n",
      "Epoch 31/100\n",
      "26/26 [==============================] - 0s 10ms/step - loss: 0.0026 - val_loss: 0.0032\n",
      "Epoch 32/100\n",
      "26/26 [==============================] - 0s 9ms/step - loss: 0.0027 - val_loss: 0.0032\n",
      "Epoch 33/100\n",
      "26/26 [==============================] - 0s 8ms/step - loss: 0.0027 - val_loss: 0.0032\n",
      "Epoch 34/100\n",
      "26/26 [==============================] - 0s 8ms/step - loss: 0.0028 - val_loss: 0.0032\n",
      "Epoch 35/100\n",
      "26/26 [==============================] - 0s 9ms/step - loss: 0.0027 - val_loss: 0.0032\n",
      "Epoch 36/100\n",
      "26/26 [==============================] - 0s 9ms/step - loss: 0.0028 - val_loss: 0.0032\n",
      "Epoch 37/100\n",
      "26/26 [==============================] - 0s 8ms/step - loss: 0.0027 - val_loss: 0.0032\n",
      "Epoch 38/100\n",
      "26/26 [==============================] - 0s 8ms/step - loss: 0.0029 - val_loss: 0.0032\n",
      "Epoch 39/100\n",
      "26/26 [==============================] - 0s 8ms/step - loss: 0.0028 - val_loss: 0.0031\n",
      "Epoch 40/100\n",
      "26/26 [==============================] - 0s 10ms/step - loss: 0.0028 - val_loss: 0.0032\n",
      "Epoch 41/100\n",
      "26/26 [==============================] - 0s 8ms/step - loss: 0.0026 - val_loss: 0.0032\n",
      "Epoch 42/100\n",
      "26/26 [==============================] - 0s 8ms/step - loss: 0.0027 - val_loss: 0.0032\n",
      "Epoch 43/100\n",
      "26/26 [==============================] - 0s 8ms/step - loss: 0.0027 - val_loss: 0.0032\n",
      "Epoch 44/100\n",
      "26/26 [==============================] - 0s 10ms/step - loss: 0.0027 - val_loss: 0.0032\n",
      "Epoch 45/100\n",
      "26/26 [==============================] - 0s 9ms/step - loss: 0.0027 - val_loss: 0.0032\n",
      "Epoch 46/100\n",
      "26/26 [==============================] - 0s 8ms/step - loss: 0.0028 - val_loss: 0.0032\n",
      "Epoch 47/100\n",
      "26/26 [==============================] - 0s 8ms/step - loss: 0.0027 - val_loss: 0.0032\n",
      "Epoch 48/100\n",
      "26/26 [==============================] - 0s 8ms/step - loss: 0.0027 - val_loss: 0.0032\n",
      "Epoch 49/100\n",
      "26/26 [==============================] - 0s 10ms/step - loss: 0.0027 - val_loss: 0.0032\n",
      "Epoch 50/100\n",
      "26/26 [==============================] - 0s 8ms/step - loss: 0.0027 - val_loss: 0.0032\n",
      "Epoch 51/100\n",
      "26/26 [==============================] - 0s 8ms/step - loss: 0.0027 - val_loss: 0.0031\n",
      "Epoch 52/100\n",
      "26/26 [==============================] - 0s 8ms/step - loss: 0.0027 - val_loss: 0.0032\n",
      "Epoch 53/100\n",
      "26/26 [==============================] - 0s 10ms/step - loss: 0.0026 - val_loss: 0.0032\n",
      "Epoch 54/100\n",
      "26/26 [==============================] - 0s 8ms/step - loss: 0.0027 - val_loss: 0.0032\n",
      "Epoch 55/100\n",
      "26/26 [==============================] - 0s 8ms/step - loss: 0.0027 - val_loss: 0.0032\n",
      "Epoch 56/100\n",
      "26/26 [==============================] - 0s 8ms/step - loss: 0.0028 - val_loss: 0.0031\n",
      "Epoch 57/100\n",
      "26/26 [==============================] - 0s 10ms/step - loss: 0.0027 - val_loss: 0.0032\n",
      "Epoch 58/100\n",
      "26/26 [==============================] - 0s 9ms/step - loss: 0.0027 - val_loss: 0.0032\n",
      "Epoch 59/100\n",
      "26/26 [==============================] - 0s 8ms/step - loss: 0.0027 - val_loss: 0.0032\n",
      "Epoch 60/100\n",
      "26/26 [==============================] - 0s 8ms/step - loss: 0.0026 - val_loss: 0.0032\n",
      "Epoch 61/100\n",
      "26/26 [==============================] - 0s 8ms/step - loss: 0.0027 - val_loss: 0.0032\n",
      "Epoch 62/100\n",
      "26/26 [==============================] - 0s 10ms/step - loss: 0.0027 - val_loss: 0.0032\n",
      "Epoch 63/100\n",
      "26/26 [==============================] - 0s 8ms/step - loss: 0.0027 - val_loss: 0.0032\n",
      "Epoch 64/100\n",
      "26/26 [==============================] - 0s 8ms/step - loss: 0.0026 - val_loss: 0.0032\n",
      "Epoch 65/100\n",
      "26/26 [==============================] - 0s 8ms/step - loss: 0.0026 - val_loss: 0.0031\n",
      "Epoch 66/100\n",
      "26/26 [==============================] - 0s 10ms/step - loss: 0.0027 - val_loss: 0.0032\n",
      "Epoch 67/100\n",
      "26/26 [==============================] - 0s 8ms/step - loss: 0.0027 - val_loss: 0.0032\n",
      "Epoch 68/100\n",
      "26/26 [==============================] - 0s 8ms/step - loss: 0.0027 - val_loss: 0.0032\n",
      "Epoch 69/100\n",
      "26/26 [==============================] - 0s 8ms/step - loss: 0.0026 - val_loss: 0.0032\n",
      "Epoch 70/100\n",
      "26/26 [==============================] - 0s 8ms/step - loss: 0.0026 - val_loss: 0.0032\n",
      "Epoch 71/100\n",
      "26/26 [==============================] - 0s 10ms/step - loss: 0.0026 - val_loss: 0.0032\n",
      "Epoch 72/100\n",
      "26/26 [==============================] - 0s 8ms/step - loss: 0.0026 - val_loss: 0.0032\n",
      "Epoch 73/100\n",
      "26/26 [==============================] - 0s 8ms/step - loss: 0.0027 - val_loss: 0.0032\n",
      "Epoch 74/100\n",
      "26/26 [==============================] - 0s 8ms/step - loss: 0.0026 - val_loss: 0.0032\n",
      "Epoch 75/100\n",
      "26/26 [==============================] - 0s 8ms/step - loss: 0.0026 - val_loss: 0.0032\n",
      "Epoch 76/100\n",
      "26/26 [==============================] - 0s 9ms/step - loss: 0.0026 - val_loss: 0.0032\n",
      "Epoch 77/100\n",
      "26/26 [==============================] - 0s 8ms/step - loss: 0.0026 - val_loss: 0.0032\n",
      "Epoch 78/100\n",
      "26/26 [==============================] - 0s 9ms/step - loss: 0.0027 - val_loss: 0.0032\n",
      "Epoch 79/100\n",
      "26/26 [==============================] - 0s 8ms/step - loss: 0.0026 - val_loss: 0.0032\n",
      "Epoch 80/100\n",
      "26/26 [==============================] - 0s 10ms/step - loss: 0.0027 - val_loss: 0.0032\n",
      "Epoch 81/100\n",
      "26/26 [==============================] - 0s 8ms/step - loss: 0.0026 - val_loss: 0.0032\n",
      "Epoch 82/100\n",
      "26/26 [==============================] - 0s 8ms/step - loss: 0.0026 - val_loss: 0.0032\n",
      "Epoch 83/100\n",
      "26/26 [==============================] - 0s 8ms/step - loss: 0.0026 - val_loss: 0.0032\n",
      "Epoch 84/100\n",
      "26/26 [==============================] - 0s 8ms/step - loss: 0.0027 - val_loss: 0.0032\n",
      "Epoch 85/100\n",
      "26/26 [==============================] - 0s 10ms/step - loss: 0.0025 - val_loss: 0.0032\n",
      "Epoch 86/100\n",
      "26/26 [==============================] - 0s 8ms/step - loss: 0.0026 - val_loss: 0.0032\n",
      "Epoch 87/100\n",
      "26/26 [==============================] - 0s 8ms/step - loss: 0.0026 - val_loss: 0.0032\n",
      "Epoch 88/100\n",
      "26/26 [==============================] - 0s 8ms/step - loss: 0.0026 - val_loss: 0.0032\n",
      "Epoch 89/100\n",
      "26/26 [==============================] - 0s 10ms/step - loss: 0.0026 - val_loss: 0.0032\n",
      "Epoch 90/100\n",
      "26/26 [==============================] - 0s 8ms/step - loss: 0.0026 - val_loss: 0.0032\n",
      "Epoch 91/100\n",
      "26/26 [==============================] - 0s 8ms/step - loss: 0.0025 - val_loss: 0.0032\n",
      "Epoch 92/100\n",
      "26/26 [==============================] - 0s 8ms/step - loss: 0.0026 - val_loss: 0.0032\n",
      "Epoch 93/100\n",
      "26/26 [==============================] - 0s 8ms/step - loss: 0.0026 - val_loss: 0.0032\n",
      "Epoch 94/100\n",
      "26/26 [==============================] - 0s 10ms/step - loss: 0.0026 - val_loss: 0.0032\n",
      "Epoch 95/100\n",
      "26/26 [==============================] - 0s 8ms/step - loss: 0.0026 - val_loss: 0.0032\n",
      "Epoch 96/100\n",
      "26/26 [==============================] - 0s 8ms/step - loss: 0.0026 - val_loss: 0.0032\n",
      "Epoch 97/100\n",
      "26/26 [==============================] - 0s 8ms/step - loss: 0.0026 - val_loss: 0.0032\n",
      "Epoch 98/100\n",
      "26/26 [==============================] - 0s 10ms/step - loss: 0.0026 - val_loss: 0.0032\n",
      "Epoch 99/100\n",
      "26/26 [==============================] - 0s 9ms/step - loss: 0.0026 - val_loss: 0.0032\n",
      "Epoch 100/100\n",
      "26/26 [==============================] - 0s 8ms/step - loss: 0.0026 - val_loss: 0.0032\n"
     ]
    }
   ],
   "source": [
    "# Fitting the data\n",
    "history = model.fit(X,\n",
    "                    Y,\n",
    "                    shuffle = False, # Since this is time series data\n",
    "                    epochs=100,\n",
    "                    batch_size=32,\n",
    "                    validation_split=0.2,\n",
    "                    verbose=1) # Verbose outputs data"
   ]
  },
  {
   "cell_type": "code",
   "execution_count": 278,
   "metadata": {},
   "outputs": [
    {
     "data": {
      "text/plain": [
       "<matplotlib.legend.Legend at 0x7faf49d41810>"
      ]
     },
     "execution_count": 278,
     "metadata": {},
     "output_type": "execute_result"
    },
    {
     "data": {
      "image/png": "[encoded data removed]",
      "text/plain": [
       "<Figure size 640x480 with 1 Axes>"
      ]
     },
     "metadata": {},
     "output_type": "display_data"
    }
   ],
   "source": [
    "# Plotting the loss iteration\n",
    "plt.plot(history.history['loss'], label = 'training loss')\n",
    "plt.plot(history.history['val_loss'], label ='validation loss')\n",
    "plt.legend()\n",
    "# Note:\n",
    "# if training loss >> validation loss -> Underfitting\n",
    "# if training loss << validation loss -> Overfitting (i.e model is smart enough to have mapped the entire dataset..)\n",
    "# Several ways to address overfitting:\n",
    "# Reduce complexity of model (hidden layers, neurons, parameters input etc)\n",
    "# Add dropout and tune rate\n",
    "# More data :)"
   ]
  },
  {
   "cell_type": "code",
   "execution_count": 279,
   "metadata": {},
   "outputs": [
    {
     "name": "stdout",
     "output_type": "stream",
     "text": [
      "Number of Forecasts to do:  15\n"
     ]
    }
   ],
   "source": [
    "true_Y = npa[1005:1020]\n",
    "pred_Y = []\n",
    "print('Number of Forecasts to do: ',len(true_Y))"
   ]
  },
  {
   "cell_type": "code",
   "execution_count": 280,
   "metadata": {},
   "outputs": [
    {
     "name": "stdout",
     "output_type": "stream",
     "text": [
      "1/1 [==============================] - 1s 523ms/step\n",
      "0.2722786\n",
      "1/1 [==============================] - 0s 16ms/step\n",
      "0.27231452\n",
      "1/1 [==============================] - 0s 15ms/step\n",
      "0.27236027\n",
      "1/1 [==============================] - 0s 15ms/step\n",
      "0.27240503\n",
      "1/1 [==============================] - 0s 15ms/step\n",
      "0.27244365\n",
      "1/1 [==============================] - 0s 15ms/step\n",
      "0.27247417\n",
      "1/1 [==============================] - 0s 14ms/step\n",
      "0.27249658\n",
      "1/1 [==============================] - 0s 15ms/step\n",
      "0.27251175\n",
      "1/1 [==============================] - 0s 15ms/step\n",
      "0.27252102\n",
      "1/1 [==============================] - 0s 15ms/step\n",
      "0.27252573\n",
      "1/1 [==============================] - 0s 15ms/step\n",
      "0.272527\n",
      "1/1 [==============================] - 0s 14ms/step\n",
      "0.27252603\n",
      "1/1 [==============================] - 0s 30ms/step\n",
      "0.27252355\n",
      "1/1 [==============================] - 0s 14ms/step\n",
      "0.27252024\n",
      "1/1 [==============================] - 0s 14ms/step\n",
      "0.2725166\n"
     ]
    }
   ],
   "source": [
    "for i in range(1005,1020):\n",
    "    p = model.predict(threshold.reshape(1,X.shape[1],1))[0,0]\n",
    "    threshold = np.roll(threshold, -1)  # Shift elements to the left\n",
    "    threshold[-1] = p  # Set the last element as the prediction\n",
    "    pred_Y.append(p)\n",
    "    print(p)"
   ]
  },
  {
   "cell_type": "code",
   "execution_count": 281,
   "metadata": {},
   "outputs": [
    {
     "data": {
      "text/plain": [
       "<matplotlib.legend.Legend at 0x7faf595af0d0>"
      ]
     },
     "execution_count": 281,
     "metadata": {},
     "output_type": "execute_result"
    },
    {
     "data": {
      "image/png": "[encoded data removed]",
      "text/plain": [
       "<Figure size 640x480 with 1 Axes>"
      ]
     },
     "metadata": {},
     "output_type": "display_data"
    }
   ],
   "source": [
    "plt.plot(true_Y, label = 'True Value')\n",
    "plt.plot(pred_Y, label = 'Forecasted Value')\n",
    "plt.legend()\n",
    "# Model just copied the same value over and over again. Hence, model is not very robust.\n",
    "# It's just predicting the mean."
   ]
  },
  {
   "cell_type": "code",
   "execution_count": 282,
   "metadata": {},
   "outputs": [
    {
     "name": "stdout",
     "output_type": "stream",
     "text": [
      "Mean Squared Error (MSE): 0.003249277879347873\n",
      "Mean Absolute Error (MAE): 0.04544919906055752\n"
     ]
    }
   ],
   "source": [
    "from sklearn.metrics import mean_squared_error, mean_absolute_error\n",
    "# Calculate mean squared error (MSE)\n",
    "mse = mean_squared_error(true_Y, pred_Y)\n",
    "\n",
    "# Calculate mean absolute error (MAE)\n",
    "mae = mean_absolute_error(true_Y, pred_Y)\n",
    "\n",
    "# Print the evaluation metrics\n",
    "print(\"Mean Squared Error (MSE):\", mse)\n",
    "print(\"Mean Absolute Error (MAE):\", mae)"
   ]
  }
 ],
 "metadata": {
  "kernelspec": {
   "display_name": "ML",
   "language": "python",
   "name": "python3"
  },
  "language_info": {
   "codemirror_mode": {
    "name": "ipython",
    "version": 3
   },
   "file_extension": ".py",
   "mimetype": "text/x-python",
   "name": "python",
   "nbconvert_exporter": "python",
   "pygments_lexer": "ipython3",
   "version": "3.10.6"
  },
  "orig_nbformat": 4
 },
 "nbformat": 4,
 "nbformat_minor": 2
}
