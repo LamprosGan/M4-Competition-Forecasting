{
 "cells": [
  {
   "cell_type": "code",
   "execution_count": null,
   "metadata": {},
   "outputs": [],
   "source": [
    "# Scaling Package\n",
    "from sklearn.preprocessing import MinMaxScaler\n",
    "\n",
    "# Keras Network @ https://www.tensorflow.org/guide/keras/rnn\n",
    "import tensorflow as tf\n",
    "from tensorflow import keras\n",
    "from tensorflow.keras import layers\n",
    "\n",
    "# Let's build the RNN\n",
    "model = keras.Sequential()\n",
    "\n",
    "# Add a RNN layer with 3 units.\n",
    "model.add(layers.SimpleRNN(16,\n",
    "                           activation = 'tanh',\n",
    "                           use_bias=True,\n",
    "                           #kernel_initializer=\"ones\",\n",
    "                           #kernel_regularizer = tf.keras.regularizers.L2(0.01),\n",
    "                           #recurrent_initializer=\"orthogonal\",\n",
    "                           #activity_regularizer=tf.keras.regularizers.L2(0.01),\n",
    "                           #bias_initializer=\"zeros\",\n",
    "                           #return_sequences=True,\n",
    "                           input_shape=(X.shape[1], X.shape[2])))\n",
    "# Add a dropout layer (penalizing more complex models) -- prevents overfitting\n",
    "model.add(layers.Dropout(rate=0.2))\n",
    "\n",
    "\n",
    "# Add a Dense layer with 1 units (Since we are doing a regression task.\n",
    "model.add(layers.Dense(1))\n",
    "\n",
    "# Evaluating loss function of MSE using the adam optimizer.\n",
    "model.compile(loss='mse', optimizer = 'sgd')\n",
    "\n",
    "# Print out architecture.\n",
    "model.summary()"
   ]
  },
  {
   "cell_type": "code",
   "execution_count": null,
   "metadata": {},
   "outputs": [],
   "source": [
    "# Fitting the data\n",
    "history = model.fit(X,\n",
    "                    Y,\n",
    "                    shuffle = False, # Since this is time series data\n",
    "                    epochs=500,\n",
    "                    batch_size=128,\n",
    "                    validation_split=0.1,\n",
    "                    verbose=1) # Verbose outputs data"
   ]
  }
 ],
 "metadata": {
  "language_info": {
   "name": "python"
  },
  "orig_nbformat": 4
 },
 "nbformat": 4,
 "nbformat_minor": 2
}
